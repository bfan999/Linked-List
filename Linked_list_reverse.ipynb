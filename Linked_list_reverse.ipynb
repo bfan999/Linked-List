{
 "cells": [
  {
   "cell_type": "code",
   "execution_count": null,
   "metadata": {},
   "outputs": [],
   "source": [
    "class Node:\n",
    "    def __init__(self, data=None, next=None):\n",
    "        self.data = data\n",
    "        self.next = next\n",
    "        \n",
    "class LinkedList:\n",
    "    def __init__(self):\n",
    "        self.head = None\n",
    "        \n",
    "    def insert_at_end(self, data):\n",
    "        if self.head == None:\n",
    "            self.head = Node(data, None)\n",
    "            return\n",
    "        \n",
    "        itr = self.head\n",
    "        while itr.next:\n",
    "            itr = itr.next            \n",
    "        itr.next = Node(data, None)\n",
    "    \n",
    "    def insert_values(self, data_list):\n",
    "        self.head = None\n",
    "        for i in data_list:\n",
    "            self.insert_at_end(i)\n",
    "    \n",
    "    def reverse(self):\n",
    "        itr = self.head\n",
    "        prev = None\n",
    "        \n",
    "        while cur:\n",
    "            nxt = itr.next\n",
    "            itr.next = prev\n",
    "            prev = itr\n",
    "            itr = nxt\n",
    "        self.head = prev\n",
    "                        \n",
    "    def print(self):\n",
    "        if self.head == None:\n",
    "            return(\"the linked list in empty\")\n",
    "        llst=''\n",
    "        itr = self.head\n",
    "        while itr:\n",
    "            llst += str(itr.data)+'-->'\n",
    "            itr = itr.next\n",
    "        print(llst)\n",
    "\n",
    "ll = LinkedList()\n",
    "ll.insert_values([1,2,3,4,5])\n",
    "ll.reverse()\n",
    "ll.print()"
   ]
  }
 ],
 "metadata": {
  "kernelspec": {
   "display_name": "Python 3",
   "language": "python",
   "name": "python3"
  },
  "language_info": {
   "codemirror_mode": {
    "name": "ipython",
    "version": 3
   },
   "file_extension": ".py",
   "mimetype": "text/x-python",
   "name": "python",
   "nbconvert_exporter": "python",
   "pygments_lexer": "ipython3",
   "version": "3.8.5"
  }
 },
 "nbformat": 4,
 "nbformat_minor": 4
}
